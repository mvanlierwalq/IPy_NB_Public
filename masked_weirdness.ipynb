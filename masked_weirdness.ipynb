{
 "metadata": {
  "name": ""
 },
 "nbformat": 3,
 "nbformat_minor": 0,
 "worksheets": [
  {
   "cells": [
    {
     "cell_type": "code",
     "collapsed": false,
     "input": [
      "import numpy as np\n",
      "import matplotlib.pyplot as plt \n",
      "%matplotlib inline"
     ],
     "language": "python",
     "metadata": {},
     "outputs": [],
     "prompt_number": 1
    },
    {
     "cell_type": "code",
     "collapsed": false,
     "input": [
      "testarr =np.array([[[1,2,3,4],[5,6,7,8],[9,10,11,12]],[[1,2,3,4],[5,6,7,8],[9,10,11,12]]])\n",
      "print testarr\n",
      "volarr = np.ones(testarr.shape)\n",
      "print volarr[testarr<9].sum()\n",
      "maskarr =np.array([[[1,0,0,1],[0,1,1,0],[0,1,1,0]],[[1,0,0,1],[0,1,1,0],[0,1,1,0]]])\n",
      "testarr = np.ma.masked_where(maskarr==0,testarr)\n",
      "print testarr\n",
      "print volarr[testarr<9].sum()\n",
      "print np.ma.sum(testarr)"
     ],
     "language": "python",
     "metadata": {},
     "outputs": [
      {
       "output_type": "stream",
       "stream": "stdout",
       "text": [
        "[[[ 1  2  3  4]\n",
        "  [ 5  6  7  8]\n",
        "  [ 9 10 11 12]]\n",
        "\n",
        " [[ 1  2  3  4]\n",
        "  [ 5  6  7  8]\n",
        "  [ 9 10 11 12]]]\n",
        "16.0\n",
        "[[[1 -- -- 4]\n",
        "  [-- 6 7 --]\n",
        "  [-- 10 11 --]]\n",
        "\n",
        " [[1 -- -- 4]\n",
        "  [-- 6 7 --]\n",
        "  [-- 10 11 --]]]\n",
        "16.0\n",
        "78\n"
       ]
      }
     ],
     "prompt_number": 2
    },
    {
     "cell_type": "code",
     "collapsed": false,
     "input": [
      "x = np.linspace(-10,10,10)\n",
      "y = x**2\n",
      "ym = np.ma.masked_where(y > 50 , y+10)\n",
      "ym2 = np.ma.masked_where(x > 0, y+20)\n",
      "f = plt.figure()\n",
      "plt.plot(x,y)\n",
      "plt.plot(x,ym)\n",
      "plt.plot(x,ym2)"
     ],
     "language": "python",
     "metadata": {},
     "outputs": [
      {
       "metadata": {},
       "output_type": "pyout",
       "prompt_number": 6,
       "text": [
        "[<matplotlib.lines.Line2D at 0x10608a6d0>]"
       ]
      },
      {
       "metadata": {},
       "output_type": "display_data",
       "png": "[encoded data removed]",
       "text": [
        "<matplotlib.figure.Figure at 0x106065e50>"
       ]
      }
     ],
     "prompt_number": 6
    },
    {
     "cell_type": "code",
     "collapsed": false,
     "input": [],
     "language": "python",
     "metadata": {},
     "outputs": []
    }
   ],
   "metadata": {}
  }
 ]
}